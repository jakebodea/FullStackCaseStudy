{
 "cells": [
  {
   "cell_type": "markdown",
   "metadata": {},
   "source": [
    "# Case Study #2: Customer Orders \n",
    "\n",
    "**Note**: The code below was done in the order it took to find the variables. See the bottom of the page for a list of the variables in the order desired on the Word document "
   ]
  },
  {
   "cell_type": "code",
   "execution_count": 1,
   "metadata": {
    "ExecuteTime": {
     "end_time": "2022-04-12T23:53:35.020423Z",
     "start_time": "2022-04-12T23:53:33.314022Z"
    }
   },
   "outputs": [
    {
     "data": {
      "text/html": [
       "<div>\n",
       "<style scoped>\n",
       "    .dataframe tbody tr th:only-of-type {\n",
       "        vertical-align: middle;\n",
       "    }\n",
       "\n",
       "    .dataframe tbody tr th {\n",
       "        vertical-align: top;\n",
       "    }\n",
       "\n",
       "    .dataframe thead th {\n",
       "        text-align: right;\n",
       "    }\n",
       "</style>\n",
       "<table border=\"1\" class=\"dataframe\">\n",
       "  <thead>\n",
       "    <tr style=\"text-align: right;\">\n",
       "      <th></th>\n",
       "      <th>customer_email</th>\n",
       "      <th>net_revenue</th>\n",
       "      <th>year</th>\n",
       "    </tr>\n",
       "  </thead>\n",
       "  <tbody>\n",
       "    <tr>\n",
       "      <th>0</th>\n",
       "      <td>nhknapwsbx@gmail.com</td>\n",
       "      <td>249.92</td>\n",
       "      <td>2015</td>\n",
       "    </tr>\n",
       "    <tr>\n",
       "      <th>1</th>\n",
       "      <td>joiuzbvcpn@gmail.com</td>\n",
       "      <td>87.61</td>\n",
       "      <td>2015</td>\n",
       "    </tr>\n",
       "    <tr>\n",
       "      <th>2</th>\n",
       "      <td>ukkjctepxt@gmail.com</td>\n",
       "      <td>168.38</td>\n",
       "      <td>2015</td>\n",
       "    </tr>\n",
       "    <tr>\n",
       "      <th>3</th>\n",
       "      <td>gykatilzrt@gmail.com</td>\n",
       "      <td>62.40</td>\n",
       "      <td>2015</td>\n",
       "    </tr>\n",
       "    <tr>\n",
       "      <th>4</th>\n",
       "      <td>mmsgsrtxah@gmail.com</td>\n",
       "      <td>43.08</td>\n",
       "      <td>2015</td>\n",
       "    </tr>\n",
       "  </tbody>\n",
       "</table>\n",
       "</div>"
      ],
      "text/plain": [
       "          customer_email  net_revenue  year\n",
       "0   nhknapwsbx@gmail.com       249.92  2015\n",
       "1   joiuzbvcpn@gmail.com        87.61  2015\n",
       "2   ukkjctepxt@gmail.com       168.38  2015\n",
       "3   gykatilzrt@gmail.com        62.40  2015\n",
       "4   mmsgsrtxah@gmail.com        43.08  2015"
      ]
     },
     "execution_count": 1,
     "metadata": {},
     "output_type": "execute_result"
    }
   ],
   "source": [
    "import pandas as pd \n",
    "import numpy as np \n",
    "import matplotlib.pyplot as plt \n",
    "%matplotlib inline \n",
    "\n",
    "df = pd.read_csv('/Users/jakebodea/Projects/Full Stack Case Studies/casestudy.csv')\n",
    "df.drop(columns=['Unnamed: 0'], inplace=True)\n",
    "df.head()"
   ]
  },
  {
   "cell_type": "code",
   "execution_count": 2,
   "metadata": {
    "ExecuteTime": {
     "end_time": "2022-04-12T23:53:35.111127Z",
     "start_time": "2022-04-12T23:53:35.023327Z"
    }
   },
   "outputs": [
    {
     "name": "stdout",
     "output_type": "stream",
     "text": [
      "Total revenue per year:\n",
      ">> 2015: $29,036,749.19\n",
      ">> 2016: $25,730,943.59\n",
      ">> 2017: $31,417,495.03\n"
     ]
    }
   ],
   "source": [
    "# Total revenue for the current year\n",
    "yearly_revenue = {}\n",
    "years = df['year'].unique().tolist()\n",
    "\n",
    "for year in years:\n",
    "    if year in yearly_revenue:\n",
    "        pass\n",
    "    else:\n",
    "        yearly_revenue[year] = sum(df[df['year'] == year]['net_revenue'])\n",
    "        \n",
    "print('Total revenue per year:')\n",
    "for year in yearly_revenue:\n",
    "    print(\">> {}: ${:,}\".format(year, round(yearly_revenue[year], 2)))"
   ]
  },
  {
   "cell_type": "code",
   "execution_count": 3,
   "metadata": {
    "ExecuteTime": {
     "end_time": "2022-04-12T23:53:35.145425Z",
     "start_time": "2022-04-12T23:53:35.113184Z"
    }
   },
   "outputs": [
    {
     "name": "stdout",
     "output_type": "stream",
     "text": [
      "Number of customers per year:\n",
      ">> 2015: 231,294\n",
      ">> 2016: 204,646\n",
      ">> 2017: 249,987\n"
     ]
    }
   ],
   "source": [
    "# Total customers for current/previous year\n",
    "\n",
    "yearly_customers = {}\n",
    "for year in years: \n",
    "    if year in yearly_customers:\n",
    "        pass \n",
    "    else:\n",
    "        yearly_customers[year] = df[df['year'] == year]['customer_email'].tolist()\n",
    "\n",
    "print('Number of customers per year:')\n",
    "for year in yearly_revenue:\n",
    "    print(\">> {}: {:,}\".format(year, len(yearly_customers[year])))"
   ]
  },
  {
   "cell_type": "code",
   "execution_count": 4,
   "metadata": {
    "ExecuteTime": {
     "end_time": "2022-04-12T23:53:35.376194Z",
     "start_time": "2022-04-12T23:53:35.147166Z"
    }
   },
   "outputs": [],
   "source": [
    "custs_2015 = df[df['year'] == 2015]\n",
    "custs_2016 = df[df['year'] == 2016]\n",
    "custs_2017 = df[df['year'] == 2017]\n",
    "\n",
    "# creating a dataframe for all customers in 2016 that were also present in 2015\n",
    "return_2016 = custs_2016.merge(custs_2015, how='inner', on=['customer_email'], suffixes=('_2016', '_2015'))"
   ]
  },
  {
   "cell_type": "code",
   "execution_count": 5,
   "metadata": {
    "ExecuteTime": {
     "end_time": "2022-04-12T23:53:35.966151Z",
     "start_time": "2022-04-12T23:53:35.378377Z"
    }
   },
   "outputs": [
    {
     "data": {
      "text/html": [
       "<div>\n",
       "<style scoped>\n",
       "    .dataframe tbody tr th:only-of-type {\n",
       "        vertical-align: middle;\n",
       "    }\n",
       "\n",
       "    .dataframe tbody tr th {\n",
       "        vertical-align: top;\n",
       "    }\n",
       "\n",
       "    .dataframe thead th {\n",
       "        text-align: right;\n",
       "    }\n",
       "</style>\n",
       "<table border=\"1\" class=\"dataframe\">\n",
       "  <thead>\n",
       "    <tr style=\"text-align: right;\">\n",
       "      <th></th>\n",
       "      <th>customer_email</th>\n",
       "      <th>net_revenue_2017</th>\n",
       "      <th>year_2017</th>\n",
       "      <th>net_revenue_2016</th>\n",
       "      <th>year_2016</th>\n",
       "      <th>net_revenue_2015</th>\n",
       "      <th>year_2015</th>\n",
       "    </tr>\n",
       "  </thead>\n",
       "  <tbody>\n",
       "    <tr>\n",
       "      <th>0</th>\n",
       "      <td>yixtbjnxce@gmail.com</td>\n",
       "      <td>133.86</td>\n",
       "      <td>2017</td>\n",
       "      <td>201.32</td>\n",
       "      <td>2016.0</td>\n",
       "      <td>NaN</td>\n",
       "      <td>NaN</td>\n",
       "    </tr>\n",
       "    <tr>\n",
       "      <th>1</th>\n",
       "      <td>gwqjyelgct@gmail.com</td>\n",
       "      <td>164.10</td>\n",
       "      <td>2017</td>\n",
       "      <td>14.62</td>\n",
       "      <td>2016.0</td>\n",
       "      <td>NaN</td>\n",
       "      <td>NaN</td>\n",
       "    </tr>\n",
       "    <tr>\n",
       "      <th>2</th>\n",
       "      <td>hxshgpdxtr@gmail.com</td>\n",
       "      <td>178.10</td>\n",
       "      <td>2017</td>\n",
       "      <td>217.35</td>\n",
       "      <td>2016.0</td>\n",
       "      <td>180.59</td>\n",
       "      <td>2015.0</td>\n",
       "    </tr>\n",
       "    <tr>\n",
       "      <th>3</th>\n",
       "      <td>gipqsrvngd@gmail.com</td>\n",
       "      <td>172.90</td>\n",
       "      <td>2017</td>\n",
       "      <td>156.06</td>\n",
       "      <td>2016.0</td>\n",
       "      <td>122.71</td>\n",
       "      <td>2015.0</td>\n",
       "    </tr>\n",
       "    <tr>\n",
       "      <th>4</th>\n",
       "      <td>cdvwonzpwu@gmail.com</td>\n",
       "      <td>102.46</td>\n",
       "      <td>2017</td>\n",
       "      <td>140.43</td>\n",
       "      <td>2016.0</td>\n",
       "      <td>NaN</td>\n",
       "      <td>NaN</td>\n",
       "    </tr>\n",
       "  </tbody>\n",
       "</table>\n",
       "</div>"
      ],
      "text/plain": [
       "         customer_email  net_revenue_2017  year_2017  net_revenue_2016  \\\n",
       "0  yixtbjnxce@gmail.com            133.86       2017            201.32   \n",
       "1  gwqjyelgct@gmail.com            164.10       2017             14.62   \n",
       "2  hxshgpdxtr@gmail.com            178.10       2017            217.35   \n",
       "3  gipqsrvngd@gmail.com            172.90       2017            156.06   \n",
       "4  cdvwonzpwu@gmail.com            102.46       2017            140.43   \n",
       "\n",
       "   year_2016  net_revenue_2015  year_2015  \n",
       "0     2016.0               NaN        NaN  \n",
       "1     2016.0               NaN        NaN  \n",
       "2     2016.0            180.59     2015.0  \n",
       "3     2016.0            122.71     2015.0  \n",
       "4     2016.0               NaN        NaN  "
      ]
     },
     "execution_count": 5,
     "metadata": {},
     "output_type": "execute_result"
    }
   ],
   "source": [
    "# creating a dataframe for all customers in 2017 that were present in either 2016 or 2015 or both\n",
    "return_2017 = custs_2017.merge(custs_2016, how='inner', on=['customer_email'], suffixes=('_2017', '_2016'))\n",
    "temp_2017 = custs_2017.merge(custs_2015, how='inner', on=['customer_email'], suffixes=('_2017', '_2015'))\n",
    "return_2017 = return_2017.merge(temp_2017, how ='outer', on=['customer_email', 'net_revenue_2017', 'year_2017'])\n",
    "return_2017.head()"
   ]
  },
  {
   "cell_type": "code",
   "execution_count": 6,
   "metadata": {
    "ExecuteTime": {
     "end_time": "2022-04-12T23:53:35.975812Z",
     "start_time": "2022-04-12T23:53:35.967849Z"
    }
   },
   "outputs": [
    {
     "name": "stdout",
     "output_type": "stream",
     "text": [
      "Existing customer revenue per year:\n",
      ">> 2016: $7,485,452.58\n",
      ">> 2017: $2,740,887.39\n"
     ]
    }
   ],
   "source": [
    "print(\"Existing customer revenue per year:\")\n",
    "print(\">> 2016: ${:,}\".format(round(sum(return_2016['net_revenue_2016']),2)))\n",
    "print(\">> 2017: ${:,}\".format(round(sum(return_2017['net_revenue_2017']),2)))"
   ]
  },
  {
   "cell_type": "code",
   "execution_count": 7,
   "metadata": {
    "ExecuteTime": {
     "end_time": "2022-04-12T23:53:36.232358Z",
     "start_time": "2022-04-12T23:53:35.980060Z"
    }
   },
   "outputs": [
    {
     "name": "stdout",
     "output_type": "stream",
     "text": [
      "Number of lost customers:\n",
      ">> 685,927\n",
      "(List can be accessed)\n"
     ]
    }
   ],
   "source": [
    "# Lost customers \n",
    "lost_customers = pd.concat([custs_2017, custs_2016, custs_2015]).drop_duplicates(keep=False)\n",
    "# creates a series of all the customers and removes duplicates, leaving only the customers that had \n",
    "# one order. This can be adjusted to not include 2017 data if it is decided that 2017 should not be \n",
    "# considered a lost customer since there is no 2018 data. \n",
    "\n",
    "\n",
    "print('Number of lost customers:')\n",
    "print(\">> {:,}\".format(len(lost_customers['customer_email'])))\n",
    "print(\"(List can be accessed)\")"
   ]
  },
  {
   "cell_type": "code",
   "execution_count": 8,
   "metadata": {
    "ExecuteTime": {
     "end_time": "2022-04-12T23:53:36.596293Z",
     "start_time": "2022-04-12T23:53:36.235727Z"
    }
   },
   "outputs": [
    {
     "name": "stdout",
     "output_type": "stream",
     "text": [
      "Number of new customers:\n",
      ">> 2016: 145,062\n",
      ">> 2017: 228,262\n",
      "(List can be accessed)\n"
     ]
    }
   ],
   "source": [
    "# New customers\n",
    "\n",
    "# creating a df for all custs that were in 2016 but not in 2015\n",
    "is_return = custs_2016['customer_email'].isin(custs_2015['customer_email'])\n",
    "new_2016 = custs_2016.drop(custs_2016[is_return].index)\n",
    "\n",
    "\n",
    "# creating a df for all custs that were in 2017 but not in 2016 or 2015\n",
    "is_return = custs_2017['customer_email'].isin(df[df['year'] != 2017]['customer_email'])\n",
    "new_2017 = custs_2017.drop(custs_2017[is_return].index)\n",
    "\n",
    "print(\"Number of new customers:\")\n",
    "print(\">> 2016: {:,}\".format(len(new_2016)))\n",
    "print(\">> 2017: {:,}\".format(len(new_2017)))\n",
    "print(\"(List can be accessed)\")"
   ]
  },
  {
   "cell_type": "code",
   "execution_count": 9,
   "metadata": {
    "ExecuteTime": {
     "end_time": "2022-04-12T23:53:36.612268Z",
     "start_time": "2022-04-12T23:53:36.598950Z"
    }
   },
   "outputs": [
    {
     "name": "stdout",
     "output_type": "stream",
     "text": [
      "Existing Customer Growth:\n",
      ">> $-4,744,565.19\n"
     ]
    }
   ],
   "source": [
    "# Existing customer growth \n",
    "\n",
    "print(\"Existing Customer Growth:\")\n",
    "print(\">> ${:,}\".format(round(sum(return_2017['net_revenue_2017']) - sum(return_2016['net_revenue_2016']), 2)))"
   ]
  },
  {
   "cell_type": "code",
   "execution_count": 10,
   "metadata": {
    "ExecuteTime": {
     "end_time": "2022-04-12T23:53:36.743379Z",
     "start_time": "2022-04-12T23:53:36.617372Z"
    }
   },
   "outputs": [
    {
     "name": "stdout",
     "output_type": "stream",
     "text": [
      "New Customer Revenue:\n",
      ">> $47,021,726.05\n"
     ]
    }
   ],
   "source": [
    "# New customer revenue \n",
    "\n",
    "# creating a df for all custs that were in 2017 but not in 2016 (ok if in 2015)\n",
    "is_return = custs_2017['customer_email'].isin(custs_2016['customer_email'])\n",
    "new_2017_2015ok = custs_2017.drop(custs_2017[is_return].index)\n",
    "\n",
    "# Note: len(new_2017) = 228,262 and len(new_2017_2015ok) = 229,028; there are about 1000 customers \n",
    "# in 2017 that did not purchase anything in 2016 but did in 2015 that are labelled as \"new\"\n",
    "\n",
    "print(\"New Customer Revenue:\")\n",
    "print(\">> ${:,}\".format(round(sum(new_2016['net_revenue']) + sum(new_2017_2015ok['net_revenue']), 2)))"
   ]
  },
  {
   "cell_type": "code",
   "execution_count": 11,
   "metadata": {
    "ExecuteTime": {
     "end_time": "2022-04-12T23:53:36.786884Z",
     "start_time": "2022-04-12T23:53:36.744798Z"
    }
   },
   "outputs": [
    {
     "name": "stdout",
     "output_type": "stream",
     "text": [
      "Revenue Lost from Attrition:\n",
      ">> $86,185,187.81\n"
     ]
    }
   ],
   "source": [
    "# Revenue lost from attrition\n",
    "\n",
    "print(\"Revenue Lost from Attrition:\")\n",
    "print(\">> ${:,}\".format(round(sum(lost_customers['net_revenue']), 2)))"
   ]
  },
  {
   "cell_type": "code",
   "execution_count": null,
   "metadata": {},
   "outputs": [],
   "source": []
  },
  {
   "cell_type": "code",
   "execution_count": null,
   "metadata": {},
   "outputs": [],
   "source": []
  },
  {
   "cell_type": "code",
   "execution_count": 12,
   "metadata": {
    "ExecuteTime": {
     "end_time": "2022-04-12T23:53:36.867839Z",
     "start_time": "2022-04-12T23:53:36.788404Z"
    }
   },
   "outputs": [
    {
     "name": "stdout",
     "output_type": "stream",
     "text": [
      "Total revenue per year:\n",
      ">> 2015: $29,036,749.19\n",
      ">> 2016: $25,730,943.59\n",
      ">> 2017: $31,417,495.03\n",
      "\n",
      "New Customer Revenue:\n",
      ">> $47,021,726.05\n",
      "\n",
      "Existing Customer Growth:\n",
      ">> $-4,744,565.19\n",
      "\n",
      "Revenue Lost from Attrition:\n",
      ">> $86,185,187.81\n",
      "\n",
      "Existing customer revenue per year:\n",
      ">> 2016: $7,485,452.58\n",
      ">> 2017: $2,740,887.39\n",
      "\n",
      "Number of customers per year:\n",
      ">> 2015: 231,294\n",
      ">> 2016: 204,646\n",
      ">> 2017: 249,987\n",
      "\n",
      "Number of new customers:\n",
      ">> 2016: 145,062\n",
      ">> 2017: 228,262\n",
      "(List can be accessed)\n",
      "\n",
      "Number of lost customers:\n",
      ">> 685,927\n",
      "(List can be accessed)\n"
     ]
    }
   ],
   "source": [
    "print('Total revenue per year:')\n",
    "for year in yearly_revenue:\n",
    "    print(\">> {}: ${:,}\".format(year, round(yearly_revenue[year], 2)))\n",
    "\n",
    "print()\n",
    "\n",
    "print(\"New Customer Revenue:\")\n",
    "print(\">> ${:,}\".format(round(sum(new_2016['net_revenue']) + sum(new_2017_2015ok['net_revenue']), 2)))\n",
    "\n",
    "print()\n",
    "\n",
    "print(\"Existing Customer Growth:\")\n",
    "print(\">> ${:,}\".format(round(sum(return_2017['net_revenue_2017']) - sum(return_2016['net_revenue_2016']), 2)))\n",
    "\n",
    "print()\n",
    "\n",
    "print(\"Revenue Lost from Attrition:\")\n",
    "print(\">> ${:,}\".format(round(sum(lost_customers['net_revenue']), 2)))\n",
    "\n",
    "print()\n",
    "\n",
    "print(\"Existing customer revenue per year:\")\n",
    "print(\">> 2016: ${:,}\".format(round(sum(return_2016['net_revenue_2016']),2)))\n",
    "print(\">> 2017: ${:,}\".format(round(sum(return_2017['net_revenue_2017']),2)))\n",
    "\n",
    "print()\n",
    "\n",
    "print('Number of customers per year:')\n",
    "for year in yearly_revenue:\n",
    "    print(\">> {}: {:,}\".format(year, len(yearly_customers[year])))\n",
    "    \n",
    "print()\n",
    "\n",
    "print(\"Number of new customers:\")\n",
    "print(\">> 2016: {:,}\".format(len(new_2016)))\n",
    "print(\">> 2017: {:,}\".format(len(new_2017)))\n",
    "print(\"(List can be accessed)\")\n",
    "\n",
    "print()\n",
    "\n",
    "print('Number of lost customers:')\n",
    "print(\">> {:,}\".format(len(lost_customers['customer_email'])))\n",
    "print(\"(List can be accessed)\")"
   ]
  },
  {
   "cell_type": "code",
   "execution_count": null,
   "metadata": {},
   "outputs": [],
   "source": []
  },
  {
   "cell_type": "code",
   "execution_count": 13,
   "metadata": {
    "ExecuteTime": {
     "end_time": "2022-04-12T23:53:36.973345Z",
     "start_time": "2022-04-12T23:53:36.869801Z"
    }
   },
   "outputs": [
    {
     "data": {
      "image/png": "[encoded data removed]",
      "text/plain": [
       "<Figure size 432x288 with 1 Axes>"
      ]
     },
     "metadata": {
      "needs_background": "light"
     },
     "output_type": "display_data"
    }
   ],
   "source": [
    "plt.bar(yearly_revenue.keys(), yearly_revenue.values())\n",
    "plt.title(\"Yearly Net Revenue\")\n",
    "plt.xlabel(\"Year\")\n",
    "plt.xticks([2015, 2016, 2017])\n",
    "plt.ylabel(\"Revenue (Millions of Dollars)\")\n",
    "plt.show()"
   ]
  },
  {
   "cell_type": "code",
   "execution_count": 14,
   "metadata": {
    "ExecuteTime": {
     "end_time": "2022-04-12T23:53:37.046121Z",
     "start_time": "2022-04-12T23:53:36.974627Z"
    }
   },
   "outputs": [
    {
     "data": {
      "image/png": "[encoded data removed]",
      "text/plain": [
       "<Figure size 432x288 with 1 Axes>"
      ]
     },
     "metadata": {
      "needs_background": "light"
     },
     "output_type": "display_data"
    }
   ],
   "source": [
    "x = [2016, 2017]\n",
    "y = [len(new_2016), len(new_2017)]\n",
    "\n",
    "plt.bar(x, y)\n",
    "plt.title(\"Yearly New Customers\")\n",
    "plt.xlabel(\"Year\")\n",
    "plt.xticks([2016, 2017])\n",
    "plt.ylabel(\"Number of Customers\")\n",
    "plt.show()"
   ]
  },
  {
   "cell_type": "markdown",
   "metadata": {},
   "source": [
    "While 2015 to 2016 saw a dropoff in revenue, 2017 saw a boost in new customers that reversed the downward revenue trend. Whatever marketing happened in 2017, it worked really well for the benefit of the company."
   ]
  },
  {
   "cell_type": "code",
   "execution_count": null,
   "metadata": {},
   "outputs": [],
   "source": []
  }
 ],
 "metadata": {
  "kernelspec": {
   "display_name": "Python 3",
   "language": "python",
   "name": "python3"
  },
  "language_info": {
   "codemirror_mode": {
    "name": "ipython",
    "version": 3
   },
   "file_extension": ".py",
   "mimetype": "text/x-python",
   "name": "python",
   "nbconvert_exporter": "python",
   "pygments_lexer": "ipython3",
   "version": "3.8.3"
  },
  "varInspector": {
   "cols": {
    "lenName": 16,
    "lenType": 16,
    "lenVar": 40
   },
   "kernels_config": {
    "python": {
     "delete_cmd_postfix": "",
     "delete_cmd_prefix": "del ",
     "library": "var_list.py",
     "varRefreshCmd": "print(var_dic_list())"
    },
    "r": {
     "delete_cmd_postfix": ") ",
     "delete_cmd_prefix": "rm(",
     "library": "var_list.r",
     "varRefreshCmd": "cat(var_dic_list()) "
    }
   },
   "types_to_exclude": [
    "module",
    "function",
    "builtin_function_or_method",
    "instance",
    "_Feature"
   ],
   "window_display": false
  }
 },
 "nbformat": 4,
 "nbformat_minor": 4
}
